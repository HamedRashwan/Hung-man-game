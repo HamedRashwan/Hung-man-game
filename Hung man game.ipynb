{
 "cells": [
  {
   "cell_type": "code",
   "execution_count": 1,
   "metadata": {},
   "outputs": [
    {
     "name": "stdout",
     "output_type": "stream",
     "text": [
      "Okay p Let`s To play\n",
      "Guess the word\n",
      "_ _ _ _ _ _  \n",
      "Enter a letter to guess the word: _ _ a _ _ _ \n",
      "Enter a letter to guess the word: _ _ a _ _ _ \n",
      "Enter a letter to guess the word: _ _ a n _ _ \n",
      "Enter a letter to guess the word: o _ a n _ _ \n",
      "Enter a letter to guess the word: o r a n _ _ \n",
      "Enter a letter to guess the word: o r a n _ _ \n",
      "Enter a letter to guess the word: o r a n g _ \n",
      "Enter a letter to guess the word: o r a n g e \n",
      "congrats! You won the game\n"
     ]
    }
   ],
   "source": [
    "import random\n",
    "\n",
    "items=['apple' ,'banana' ,'mango' , 'strawberry' ,'orange' , 'grape' ,\n",
    "       'pineapple' , 'apricot' , 'lemon' , 'coconut' , 'watermelon'\n",
    "      'cherry' , 'papaya' , 'berry' , 'peach' , 'lychee' , 'muskmelon']\n",
    "rand_item = items[random.randrange(len(items))]\n",
    "\n",
    "name= input('Enter Your Name')\n",
    "\n",
    "print('Okay '+name+ ' Let`s To play')\n",
    "\n",
    "print(\"Guess the word\")\n",
    "\n",
    "print(len(rand_item)*\"_ \",end=\" \")\n",
    "\n",
    "str = [\"_\" for j in range(len(rand_item))]\n",
    "\n",
    "new =\"\"\n",
    "\n",
    "for k in range(len(rand_item)+2):\n",
    "  print()\n",
    "  if(new==rand_item):\n",
    "    break\n",
    "  else:\n",
    "    print(\"Enter a letter to guess the word:\",end=\" \")\n",
    "    x = input()\n",
    "    new = \"\"\n",
    "    for i in range(len(rand_item)):\n",
    "      if(x==rand_item[i]):\n",
    "        str[i]=x\n",
    "        print(str[i],end=\" \")\n",
    "        for j in str:\n",
    "          new = new+j\n",
    "      else:\n",
    "        print(str[i],end=\" \")\n",
    "\n",
    "if(rand_item==new):\n",
    "  print()\n",
    "  print(\"congrats! You won the game\")\n",
    "else:\n",
    "  print()\n",
    "  print(\"Oops! You lost\")\n",
    "  print(\"The word was %s\"%rand_item)"
   ]
  },
  {
   "cell_type": "code",
   "execution_count": null,
   "metadata": {},
   "outputs": [],
   "source": []
  }
 ],
 "metadata": {
  "kernelspec": {
   "display_name": "Python 3",
   "language": "python",
   "name": "python3"
  },
  "language_info": {
   "codemirror_mode": {
    "name": "ipython",
    "version": 3
   },
   "file_extension": ".py",
   "mimetype": "text/x-python",
   "name": "python",
   "nbconvert_exporter": "python",
   "pygments_lexer": "ipython3",
   "version": "3.11.3"
  }
 },
 "nbformat": 4,
 "nbformat_minor": 2
}
